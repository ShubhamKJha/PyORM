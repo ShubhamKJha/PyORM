{
 "cells": [
  {
   "cell_type": "markdown",
   "metadata": {},
   "source": [
    "## PyORM \n",
    "### Python based Object-Relational Mapper"
   ]
  },
  {
   "cell_type": "code",
   "execution_count": 1,
   "metadata": {},
   "outputs": [],
   "source": [
    "# Imports\n",
    "\n",
    "from pyorm import connect_db # Main interface to connect with Python-based DBAPI\n",
    "\n",
    "from pyorm import Model, Column\n",
    "\"\"\"\n",
    "Here Model is the base class all table-classes should inherit in order to be recognized by pyorm\n",
    "Each Model object then has one or more Column objects represting columns in the table\n",
    "Currently, these data types are supported for Column objects\n",
    "    INT : Integer()\n",
    "    VARCHAR : Varchar()\n",
    "    TIME : Time()\n",
    "    BLOB : Blob()\n",
    "\"\"\"\n",
    "\n",
    "from pyorm import Integer, Varchar, Time, Blob\n",
    "\n"
   ]
  },
  {
   "cell_type": "markdown",
   "metadata": {},
   "source": [
    "Now we will try to make a connection with the database server (here using **sqlite**, currently only **sqlite** and **mysql** are supported databases). It throws exception when database connection couldn't be made."
   ]
  },
  {
   "cell_type": "code",
   "execution_count": 2,
   "metadata": {},
   "outputs": [],
   "source": [
    "# Remove the database if already exists\n",
    "!rm tmp.db\n"
   ]
  },
  {
   "cell_type": "code",
   "execution_count": 3,
   "metadata": {},
   "outputs": [],
   "source": [
    "db = connect_db('sqlite', 'tmp.db')  # db is the Engine class solely responsible for connection with DBAPI\n"
   ]
  },
  {
   "cell_type": "code",
   "execution_count": 4,
   "metadata": {},
   "outputs": [],
   "source": [
    "db.logging() # Show queries before sending them to DBAPI\n"
   ]
  },
  {
   "cell_type": "markdown",
   "metadata": {},
   "source": [
    "### Defining our own tables"
   ]
  },
  {
   "cell_type": "code",
   "execution_count": null,
   "metadata": {},
   "outputs": [],
   "source": [
    "\n",
    "class Student(Model):\n",
    "    \n",
    "    __table_name__ = 'students' # Optional \n",
    "    \n",
    "    id    = Column(Integer(), auto_increment=True)\n",
    "    name = Column(Varchar(), nullable=False)\n",
    "    age  = Column(Integer(), default=0)\n",
    "\n",
    "print(Model.__subclasses__())\n"
   ]
  },
  {
   "cell_type": "code",
   "execution_count": null,
   "metadata": {},
   "outputs": [],
   "source": [
    "class Teacher(Model):\n",
    "    \n",
    "    # __table_name__ optionally removed, it is assumed to be teacher (all lower cases)\n",
    "    \n",
    "    reg_no = Column(Integer(), auto_increment=True)\n",
    "    name = Column(Varchar(), nullable=False)\n",
    "    std = Column(Integer(), default=5)\n",
    "    subject = Column(Varchar(), nullable=False)\n"
   ]
  },
  {
   "cell_type": "code",
   "execution_count": null,
   "metadata": {},
   "outputs": [],
   "source": [
    "'''\n",
    "We can now create all the above defined tables\n",
    "\n",
    "CREATE TABLE IF NOT EXISTS # for every table\n",
    "'''\n",
    "db.create_all()"
   ]
  },
  {
   "cell_type": "code",
   "execution_count": null,
   "metadata": {},
   "outputs": [],
   "source": [
    "'''\n",
    "Now two table are present in the database.\n",
    "'''\n",
    "for table in db.table_all():\n",
    "    print(table)\n"
   ]
  },
  {
   "cell_type": "markdown",
   "metadata": {},
   "source": [
    "### Addin values to database tables"
   ]
  },
  {
   "cell_type": "code",
   "execution_count": null,
   "metadata": {},
   "outputs": [],
   "source": [
    "stu1 = Student(name = 'Shubham', age = 20)\n",
    "stu2 = Student(name = 'Rohit', age = 21)\n",
    "stu3 = Student(name = 'Abhinav', age = 22)\n",
    "stu4 = Student(name = 'Raghav', age = 19)\n",
    "stu5 = Student(name = 'Aastik', age = 24)\n",
    "stu6 = Student(name = 'Saurav', age = 18)"
   ]
  },
  {
   "cell_type": "code",
   "execution_count": null,
   "metadata": {},
   "outputs": [],
   "source": [
    "db.insert(stu1)\n",
    "db.insert(stu2)\n",
    "db.insert(stu3)\n",
    "db.insert(stu4)\n",
    "db.insert(stu5)\n",
    "db.insert(stu6)"
   ]
  },
  {
   "cell_type": "code",
   "execution_count": null,
   "metadata": {},
   "outputs": [],
   "source": [
    "\"\"\"\n",
    "Until the transaction is commited, nothing happens in database.\n",
    "In order to commit our transaction, we need to call the commit() method on Engine class\n",
    "\"\"\"\n",
    "db.commit()"
   ]
  },
  {
   "cell_type": "markdown",
   "metadata": {},
   "source": [
    "### Now we can make queries to our tables"
   ]
  },
  {
   "cell_type": "code",
   "execution_count": null,
   "metadata": {},
   "outputs": [],
   "source": [
    "'''\n",
    "SELECT * FROM students;\n",
    "'''\n",
    "q = db.select().from_(Student)\n",
    "\n",
    "# Query is still not executed in the database until the result is demanded\n",
    "q.query"
   ]
  },
  {
   "cell_type": "code",
   "execution_count": null,
   "metadata": {},
   "outputs": [],
   "source": [
    "q.all()"
   ]
  },
  {
   "cell_type": "code",
   "execution_count": null,
   "metadata": {},
   "outputs": [],
   "source": [
    "'''\n",
    "SELECT * FROM students WHERE ( age <= 21);\n",
    "\n",
    "'''\n",
    "db.\n",
    "    select().\n",
    "    from_(Student).\n",
    "    where(Student.age <= 21).\n",
    "    all()"
   ]
  },
  {
   "cell_type": "markdown",
   "metadata": {},
   "source": [
    "### In order to free up resources, we need to close the connection to database"
   ]
  },
  {
   "cell_type": "code",
   "execution_count": null,
   "metadata": {},
   "outputs": [],
   "source": [
    "db.close() \n",
    "'''\n",
    "It frees up the database, but it is sometimes forgotten\n",
    "'''"
   ]
  },
  {
   "cell_type": "markdown",
   "metadata": {},
   "source": [
    "### We have also made available a context manager to clean up memory when work is finished"
   ]
  },
  {
   "cell_type": "code",
   "execution_count": null,
   "metadata": {},
   "outputs": [],
   "source": [
    "from pyorm import connecting\n",
    "\n",
    "with connecting('sqlite', 'tmp.db') as engine:\n",
    "    engine.create_all()\n",
    "    \n",
    "    teachers = [\n",
    "        Teacher(name = 'Ramesh', std = 10, subject = 'Maths'),\n",
    "        Teacher(name = 'Stuart', std = 9, subject = 'Chemistry'),\n",
    "        Teacher(name = 'Rishabh', std = 7, subject = 'History'),\n",
    "        Teacher(name = 'Jacob', std = 4, subject = 'Physics'),\n",
    "        Teacher(name = 'Manish', std = 3, subject = 'Physics'),\n",
    "        Teacher(name = 'Girish', std = 7, subject = 'Chemistry'),\n",
    "        Teacher(name = 'Rakesh', std = 2, subject = 'Physics')\n",
    "    ]\n",
    "    \n",
    "    for teacher in teachers:\n",
    "        engine.insert(teacher)\n",
    "    \n",
    "    print(\n",
    "        engine.\n",
    "            select()\n",
    "            .from_(Teacher)\n",
    "            .where(Teacher.subject == 'Physics')\n",
    "            .where(Teacher.std > 2)\n",
    "            .all()\n",
    "    )"
   ]
  },
  {
   "cell_type": "code",
   "execution_count": null,
   "metadata": {},
   "outputs": [],
   "source": []
  }
 ],
 "metadata": {
  "kernelspec": {
   "display_name": "Python 3",
   "language": "python",
   "name": "python3"
  },
  "language_info": {
   "codemirror_mode": {
    "name": "ipython",
    "version": 3
   },
   "file_extension": ".py",
   "mimetype": "text/x-python",
   "name": "python",
   "nbconvert_exporter": "python",
   "pygments_lexer": "ipython3",
   "version": "3.6.4"
  }
 },
 "nbformat": 4,
 "nbformat_minor": 2
}
